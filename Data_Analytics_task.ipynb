{
 "cells": [
  {
   "cell_type": "code",
   "execution_count": null,
   "metadata": {},
   "outputs": [],
   "source": [
    "\"\"\"\n",
    "The Dataset Involves Data of Tourists visiting state wise in years 2016,2017,2018,2019\n",
    "For This task ,Only 1000 Rows of the dataset was used.\n",
    "Also, At each step , Explanation is provided in the form of comments\n",
    "\"\"\""
   ]
  },
  {
   "cell_type": "code",
   "execution_count": 1,
   "metadata": {},
   "outputs": [],
   "source": [
    "#importing necessary library \n",
    "import pandas as pd\n"
   ]
  },
  {
   "cell_type": "code",
   "execution_count": 2,
   "metadata": {},
   "outputs": [],
   "source": [
    "#Reading the CSV file\n",
    "df=pd.read_csv('MOCK_DATA.csv')"
   ]
  },
  {
   "cell_type": "code",
   "execution_count": 3,
   "metadata": {},
   "outputs": [
    {
     "data": {
      "text/html": [
       "<div>\n",
       "<style scoped>\n",
       "    .dataframe tbody tr th:only-of-type {\n",
       "        vertical-align: middle;\n",
       "    }\n",
       "\n",
       "    .dataframe tbody tr th {\n",
       "        vertical-align: top;\n",
       "    }\n",
       "\n",
       "    .dataframe thead th {\n",
       "        text-align: right;\n",
       "    }\n",
       "</style>\n",
       "<table border=\"1\" class=\"dataframe\">\n",
       "  <thead>\n",
       "    <tr style=\"text-align: right;\">\n",
       "      <th></th>\n",
       "      <th>id</th>\n",
       "      <th>Visited_states</th>\n",
       "      <th>Guide_taken</th>\n",
       "      <th>Visitor_country</th>\n",
       "      <th>Hotels</th>\n",
       "      <th>Name_of_visitor</th>\n",
       "      <th>Year of Visit</th>\n",
       "    </tr>\n",
       "  </thead>\n",
       "  <tbody>\n",
       "    <tr>\n",
       "      <th>0</th>\n",
       "      <td>1</td>\n",
       "      <td>Delhi</td>\n",
       "      <td>Yes</td>\n",
       "      <td>China</td>\n",
       "      <td>Budget-hotels</td>\n",
       "      <td>Rodolfo</td>\n",
       "      <td>2019</td>\n",
       "    </tr>\n",
       "    <tr>\n",
       "      <th>1</th>\n",
       "      <td>2</td>\n",
       "      <td>Chattisgarh</td>\n",
       "      <td>Yes</td>\n",
       "      <td>France</td>\n",
       "      <td>Mid-range hotels</td>\n",
       "      <td>Robenia</td>\n",
       "      <td>2019</td>\n",
       "    </tr>\n",
       "    <tr>\n",
       "      <th>2</th>\n",
       "      <td>3</td>\n",
       "      <td>Bihar</td>\n",
       "      <td>Yes</td>\n",
       "      <td>Russia</td>\n",
       "      <td>Resorts</td>\n",
       "      <td>Lolly</td>\n",
       "      <td>2018</td>\n",
       "    </tr>\n",
       "    <tr>\n",
       "      <th>3</th>\n",
       "      <td>4</td>\n",
       "      <td>Sikkim</td>\n",
       "      <td>Yes</td>\n",
       "      <td>China</td>\n",
       "      <td>Mid-range hotels</td>\n",
       "      <td>Caresse</td>\n",
       "      <td>2016</td>\n",
       "    </tr>\n",
       "    <tr>\n",
       "      <th>4</th>\n",
       "      <td>5</td>\n",
       "      <td>Jharkhand</td>\n",
       "      <td>Yes</td>\n",
       "      <td>China</td>\n",
       "      <td>Resorts</td>\n",
       "      <td>Etty</td>\n",
       "      <td>2017</td>\n",
       "    </tr>\n",
       "    <tr>\n",
       "      <th>5</th>\n",
       "      <td>6</td>\n",
       "      <td>Andhra pradesh</td>\n",
       "      <td>No</td>\n",
       "      <td>China</td>\n",
       "      <td>Mid-range hotels</td>\n",
       "      <td>Northrop</td>\n",
       "      <td>2019</td>\n",
       "    </tr>\n",
       "    <tr>\n",
       "      <th>6</th>\n",
       "      <td>7</td>\n",
       "      <td>Tripura</td>\n",
       "      <td>No</td>\n",
       "      <td>China</td>\n",
       "      <td>Mid-range hotels</td>\n",
       "      <td>Denna</td>\n",
       "      <td>2016</td>\n",
       "    </tr>\n",
       "    <tr>\n",
       "      <th>7</th>\n",
       "      <td>8</td>\n",
       "      <td>Sikkim</td>\n",
       "      <td>Yes</td>\n",
       "      <td>France</td>\n",
       "      <td>Mid-range hotels</td>\n",
       "      <td>Starlin</td>\n",
       "      <td>2017</td>\n",
       "    </tr>\n",
       "    <tr>\n",
       "      <th>8</th>\n",
       "      <td>9</td>\n",
       "      <td>Tripura</td>\n",
       "      <td>No</td>\n",
       "      <td>Russia</td>\n",
       "      <td>Budget-hotels</td>\n",
       "      <td>Bertina</td>\n",
       "      <td>2019</td>\n",
       "    </tr>\n",
       "    <tr>\n",
       "      <th>9</th>\n",
       "      <td>10</td>\n",
       "      <td>Nagaland</td>\n",
       "      <td>Yes</td>\n",
       "      <td>China</td>\n",
       "      <td>Resorts</td>\n",
       "      <td>Abbe</td>\n",
       "      <td>2017</td>\n",
       "    </tr>\n",
       "    <tr>\n",
       "      <th>10</th>\n",
       "      <td>11</td>\n",
       "      <td>Nagaland</td>\n",
       "      <td>Yes</td>\n",
       "      <td>China</td>\n",
       "      <td>Budget-hotels</td>\n",
       "      <td>Junie</td>\n",
       "      <td>2017</td>\n",
       "    </tr>\n",
       "    <tr>\n",
       "      <th>11</th>\n",
       "      <td>12</td>\n",
       "      <td>Karnataka</td>\n",
       "      <td>No</td>\n",
       "      <td>China</td>\n",
       "      <td>Budget-hotels</td>\n",
       "      <td>Jefferey</td>\n",
       "      <td>2017</td>\n",
       "    </tr>\n",
       "    <tr>\n",
       "      <th>12</th>\n",
       "      <td>13</td>\n",
       "      <td>Goa</td>\n",
       "      <td>Yes</td>\n",
       "      <td>China</td>\n",
       "      <td>Budget-hotels</td>\n",
       "      <td>Wake</td>\n",
       "      <td>2018</td>\n",
       "    </tr>\n",
       "    <tr>\n",
       "      <th>13</th>\n",
       "      <td>14</td>\n",
       "      <td>Telangana</td>\n",
       "      <td>No</td>\n",
       "      <td>China</td>\n",
       "      <td>Resorts</td>\n",
       "      <td>Cobb</td>\n",
       "      <td>2016</td>\n",
       "    </tr>\n",
       "    <tr>\n",
       "      <th>14</th>\n",
       "      <td>15</td>\n",
       "      <td>Goa</td>\n",
       "      <td>No</td>\n",
       "      <td>Japan</td>\n",
       "      <td>Resorts</td>\n",
       "      <td>Shellie</td>\n",
       "      <td>2019</td>\n",
       "    </tr>\n",
       "  </tbody>\n",
       "</table>\n",
       "</div>"
      ],
      "text/plain": [
       "    id  Visited_states Guide_taken Visitor_country            Hotels  \\\n",
       "0    1           Delhi         Yes           China     Budget-hotels   \n",
       "1    2     Chattisgarh         Yes          France  Mid-range hotels   \n",
       "2    3           Bihar         Yes          Russia           Resorts   \n",
       "3    4          Sikkim         Yes           China  Mid-range hotels   \n",
       "4    5       Jharkhand         Yes           China           Resorts   \n",
       "5    6  Andhra pradesh          No           China  Mid-range hotels   \n",
       "6    7         Tripura          No           China  Mid-range hotels   \n",
       "7    8          Sikkim         Yes          France  Mid-range hotels   \n",
       "8    9         Tripura          No          Russia     Budget-hotels   \n",
       "9   10        Nagaland         Yes           China           Resorts   \n",
       "10  11        Nagaland         Yes           China     Budget-hotels   \n",
       "11  12       Karnataka          No           China     Budget-hotels   \n",
       "12  13             Goa         Yes           China     Budget-hotels   \n",
       "13  14       Telangana          No           China           Resorts   \n",
       "14  15             Goa          No           Japan           Resorts   \n",
       "\n",
       "   Name_of_visitor  Year of Visit  \n",
       "0          Rodolfo           2019  \n",
       "1          Robenia           2019  \n",
       "2            Lolly           2018  \n",
       "3          Caresse           2016  \n",
       "4             Etty           2017  \n",
       "5         Northrop           2019  \n",
       "6            Denna           2016  \n",
       "7          Starlin           2017  \n",
       "8          Bertina           2019  \n",
       "9             Abbe           2017  \n",
       "10           Junie           2017  \n",
       "11        Jefferey           2017  \n",
       "12            Wake           2018  \n",
       "13            Cobb           2016  \n",
       "14         Shellie           2019  "
      ]
     },
     "execution_count": 3,
     "metadata": {},
     "output_type": "execute_result"
    }
   ],
   "source": [
    "#Printing first 15 Rows of the Dataset\n",
    "df.head(15)"
   ]
  },
  {
   "cell_type": "code",
   "execution_count": 4,
   "metadata": {},
   "outputs": [
    {
     "name": "stdout",
     "output_type": "stream",
     "text": [
      "<class 'pandas.core.frame.DataFrame'>\n",
      "RangeIndex: 1000 entries, 0 to 999\n",
      "Data columns (total 7 columns):\n",
      " #   Column           Non-Null Count  Dtype \n",
      "---  ------           --------------  ----- \n",
      " 0   id               1000 non-null   int64 \n",
      " 1   Visited_states   1000 non-null   object\n",
      " 2   Guide_taken      1000 non-null   object\n",
      " 3   Visitor_country  1000 non-null   object\n",
      " 4   Hotels           1000 non-null   object\n",
      " 5   Name_of_visitor  1000 non-null   object\n",
      " 6   Year of Visit    1000 non-null   int64 \n",
      "dtypes: int64(2), object(5)\n",
      "memory usage: 54.8+ KB\n"
     ]
    }
   ],
   "source": [
    "#Printing information about the dataset\n",
    "df.info()"
   ]
  },
  {
   "cell_type": "code",
   "execution_count": 5,
   "metadata": {},
   "outputs": [
    {
     "data": {
      "text/html": [
       "<div>\n",
       "<style scoped>\n",
       "    .dataframe tbody tr th:only-of-type {\n",
       "        vertical-align: middle;\n",
       "    }\n",
       "\n",
       "    .dataframe tbody tr th {\n",
       "        vertical-align: top;\n",
       "    }\n",
       "\n",
       "    .dataframe thead th {\n",
       "        text-align: right;\n",
       "    }\n",
       "</style>\n",
       "<table border=\"1\" class=\"dataframe\">\n",
       "  <thead>\n",
       "    <tr style=\"text-align: right;\">\n",
       "      <th></th>\n",
       "      <th>id</th>\n",
       "      <th>Year of Visit</th>\n",
       "    </tr>\n",
       "  </thead>\n",
       "  <tbody>\n",
       "    <tr>\n",
       "      <th>count</th>\n",
       "      <td>1000.000000</td>\n",
       "      <td>1000.000000</td>\n",
       "    </tr>\n",
       "    <tr>\n",
       "      <th>mean</th>\n",
       "      <td>500.500000</td>\n",
       "      <td>2017.568000</td>\n",
       "    </tr>\n",
       "    <tr>\n",
       "      <th>std</th>\n",
       "      <td>288.819436</td>\n",
       "      <td>1.109327</td>\n",
       "    </tr>\n",
       "    <tr>\n",
       "      <th>min</th>\n",
       "      <td>1.000000</td>\n",
       "      <td>2016.000000</td>\n",
       "    </tr>\n",
       "    <tr>\n",
       "      <th>25%</th>\n",
       "      <td>250.750000</td>\n",
       "      <td>2017.000000</td>\n",
       "    </tr>\n",
       "    <tr>\n",
       "      <th>50%</th>\n",
       "      <td>500.500000</td>\n",
       "      <td>2018.000000</td>\n",
       "    </tr>\n",
       "    <tr>\n",
       "      <th>75%</th>\n",
       "      <td>750.250000</td>\n",
       "      <td>2019.000000</td>\n",
       "    </tr>\n",
       "    <tr>\n",
       "      <th>max</th>\n",
       "      <td>1000.000000</td>\n",
       "      <td>2019.000000</td>\n",
       "    </tr>\n",
       "  </tbody>\n",
       "</table>\n",
       "</div>"
      ],
      "text/plain": [
       "                id  Year of Visit\n",
       "count  1000.000000    1000.000000\n",
       "mean    500.500000    2017.568000\n",
       "std     288.819436       1.109327\n",
       "min       1.000000    2016.000000\n",
       "25%     250.750000    2017.000000\n",
       "50%     500.500000    2018.000000\n",
       "75%     750.250000    2019.000000\n",
       "max    1000.000000    2019.000000"
      ]
     },
     "execution_count": 5,
     "metadata": {},
     "output_type": "execute_result"
    }
   ],
   "source": [
    "#Giving Description of Dataset\n",
    "df.describe()"
   ]
  },
  {
   "cell_type": "code",
   "execution_count": 6,
   "metadata": {},
   "outputs": [
    {
     "data": {
      "text/plain": [
       "'West Bengal'"
      ]
     },
     "execution_count": 6,
     "metadata": {},
     "output_type": "execute_result"
    }
   ],
   "source": [
    "#Printing the max Visited state\n",
    "df['Visited_states'].max()"
   ]
  },
  {
   "cell_type": "code",
   "execution_count": 7,
   "metadata": {},
   "outputs": [
    {
     "data": {
      "text/html": [
       "<div>\n",
       "<style scoped>\n",
       "    .dataframe tbody tr th:only-of-type {\n",
       "        vertical-align: middle;\n",
       "    }\n",
       "\n",
       "    .dataframe tbody tr th {\n",
       "        vertical-align: top;\n",
       "    }\n",
       "\n",
       "    .dataframe thead th {\n",
       "        text-align: right;\n",
       "    }\n",
       "</style>\n",
       "<table border=\"1\" class=\"dataframe\">\n",
       "  <thead>\n",
       "    <tr style=\"text-align: right;\">\n",
       "      <th></th>\n",
       "      <th>Visited_states</th>\n",
       "      <th>Number of people</th>\n",
       "    </tr>\n",
       "  </thead>\n",
       "  <tbody>\n",
       "    <tr>\n",
       "      <th>0</th>\n",
       "      <td>Andhra pradesh</td>\n",
       "      <td>30</td>\n",
       "    </tr>\n",
       "    <tr>\n",
       "      <th>1</th>\n",
       "      <td>Arunachal Pradesh</td>\n",
       "      <td>30</td>\n",
       "    </tr>\n",
       "    <tr>\n",
       "      <th>2</th>\n",
       "      <td>Assam</td>\n",
       "      <td>33</td>\n",
       "    </tr>\n",
       "    <tr>\n",
       "      <th>3</th>\n",
       "      <td>Bihar</td>\n",
       "      <td>41</td>\n",
       "    </tr>\n",
       "    <tr>\n",
       "      <th>4</th>\n",
       "      <td>Chattisgarh</td>\n",
       "      <td>30</td>\n",
       "    </tr>\n",
       "    <tr>\n",
       "      <th>5</th>\n",
       "      <td>Delhi</td>\n",
       "      <td>38</td>\n",
       "    </tr>\n",
       "    <tr>\n",
       "      <th>6</th>\n",
       "      <td>Goa</td>\n",
       "      <td>35</td>\n",
       "    </tr>\n",
       "    <tr>\n",
       "      <th>7</th>\n",
       "      <td>Gujarat</td>\n",
       "      <td>31</td>\n",
       "    </tr>\n",
       "    <tr>\n",
       "      <th>8</th>\n",
       "      <td>Haryana</td>\n",
       "      <td>49</td>\n",
       "    </tr>\n",
       "    <tr>\n",
       "      <th>9</th>\n",
       "      <td>Himachal Pradesh</td>\n",
       "      <td>31</td>\n",
       "    </tr>\n",
       "    <tr>\n",
       "      <th>10</th>\n",
       "      <td>Jammu and Kashmir</td>\n",
       "      <td>26</td>\n",
       "    </tr>\n",
       "    <tr>\n",
       "      <th>11</th>\n",
       "      <td>Jharkhand</td>\n",
       "      <td>41</td>\n",
       "    </tr>\n",
       "    <tr>\n",
       "      <th>12</th>\n",
       "      <td>Karnataka</td>\n",
       "      <td>34</td>\n",
       "    </tr>\n",
       "    <tr>\n",
       "      <th>13</th>\n",
       "      <td>Kerala</td>\n",
       "      <td>34</td>\n",
       "    </tr>\n",
       "    <tr>\n",
       "      <th>14</th>\n",
       "      <td>Madhya Pradesh</td>\n",
       "      <td>30</td>\n",
       "    </tr>\n",
       "    <tr>\n",
       "      <th>15</th>\n",
       "      <td>Maharashtra</td>\n",
       "      <td>34</td>\n",
       "    </tr>\n",
       "    <tr>\n",
       "      <th>16</th>\n",
       "      <td>Meghalaya</td>\n",
       "      <td>43</td>\n",
       "    </tr>\n",
       "    <tr>\n",
       "      <th>17</th>\n",
       "      <td>Mizoram</td>\n",
       "      <td>26</td>\n",
       "    </tr>\n",
       "    <tr>\n",
       "      <th>18</th>\n",
       "      <td>Nagaland</td>\n",
       "      <td>33</td>\n",
       "    </tr>\n",
       "    <tr>\n",
       "      <th>19</th>\n",
       "      <td>Orissa</td>\n",
       "      <td>31</td>\n",
       "    </tr>\n",
       "    <tr>\n",
       "      <th>20</th>\n",
       "      <td>Punjab</td>\n",
       "      <td>23</td>\n",
       "    </tr>\n",
       "    <tr>\n",
       "      <th>21</th>\n",
       "      <td>Rajasthan</td>\n",
       "      <td>44</td>\n",
       "    </tr>\n",
       "    <tr>\n",
       "      <th>22</th>\n",
       "      <td>Sikkim</td>\n",
       "      <td>36</td>\n",
       "    </tr>\n",
       "    <tr>\n",
       "      <th>23</th>\n",
       "      <td>Tamil nadu</td>\n",
       "      <td>51</td>\n",
       "    </tr>\n",
       "    <tr>\n",
       "      <th>24</th>\n",
       "      <td>Telangana</td>\n",
       "      <td>38</td>\n",
       "    </tr>\n",
       "    <tr>\n",
       "      <th>25</th>\n",
       "      <td>Tripura</td>\n",
       "      <td>31</td>\n",
       "    </tr>\n",
       "    <tr>\n",
       "      <th>26</th>\n",
       "      <td>Uttar Pradesh</td>\n",
       "      <td>30</td>\n",
       "    </tr>\n",
       "    <tr>\n",
       "      <th>27</th>\n",
       "      <td>Uttarakhand</td>\n",
       "      <td>42</td>\n",
       "    </tr>\n",
       "    <tr>\n",
       "      <th>28</th>\n",
       "      <td>West Bengal</td>\n",
       "      <td>25</td>\n",
       "    </tr>\n",
       "  </tbody>\n",
       "</table>\n",
       "</div>"
      ],
      "text/plain": [
       "       Visited_states  Number of people\n",
       "0      Andhra pradesh                30\n",
       "1   Arunachal Pradesh                30\n",
       "2               Assam                33\n",
       "3               Bihar                41\n",
       "4         Chattisgarh                30\n",
       "5               Delhi                38\n",
       "6                 Goa                35\n",
       "7             Gujarat                31\n",
       "8             Haryana                49\n",
       "9    Himachal Pradesh                31\n",
       "10  Jammu and Kashmir                26\n",
       "11          Jharkhand                41\n",
       "12          Karnataka                34\n",
       "13             Kerala                34\n",
       "14     Madhya Pradesh                30\n",
       "15        Maharashtra                34\n",
       "16          Meghalaya                43\n",
       "17            Mizoram                26\n",
       "18           Nagaland                33\n",
       "19             Orissa                31\n",
       "20             Punjab                23\n",
       "21          Rajasthan                44\n",
       "22             Sikkim                36\n",
       "23         Tamil nadu                51\n",
       "24          Telangana                38\n",
       "25            Tripura                31\n",
       "26      Uttar Pradesh                30\n",
       "27        Uttarakhand                42\n",
       "28        West Bengal                25"
      ]
     },
     "execution_count": 7,
     "metadata": {},
     "output_type": "execute_result"
    }
   ],
   "source": [
    "#Creating a new dataframe and Showing the number of people Visiting Mentioned cities \n",
    "g1 = df.groupby([\"Visited_states\"]).size().reset_index(name='Number of people')\n",
    "g1"
   ]
  },
  {
   "cell_type": "code",
   "execution_count": 8,
   "metadata": {},
   "outputs": [
    {
     "data": {
      "text/plain": [
       "Yes    21\n",
       "No     17\n",
       "Name: Guide_taken, dtype: int64"
      ]
     },
     "execution_count": 8,
     "metadata": {},
     "output_type": "execute_result"
    }
   ],
   "source": [
    "#Displaying how many no. of people who visited Delhi took Guide and how many didn't\n",
    "df.loc[df[\"Visited_states\"] == \"Delhi\", \"Guide_taken\"].value_counts()"
   ]
  },
  {
   "cell_type": "code",
   "execution_count": 9,
   "metadata": {},
   "outputs": [
    {
     "data": {
      "text/plain": [
       "Resorts             18\n",
       "Budget-hotels       16\n",
       "Mid-range hotels    15\n",
       "Name: Hotels, dtype: int64"
      ]
     },
     "execution_count": 9,
     "metadata": {},
     "output_type": "execute_result"
    }
   ],
   "source": [
    "#Displaying the count of each type of Hotels Booked by people visiting Haryana\n",
    "df.loc[df[\"Visited_states\"] == \"Haryana\", \"Hotels\"].value_counts()"
   ]
  },
  {
   "cell_type": "code",
   "execution_count": 10,
   "metadata": {},
   "outputs": [
    {
     "data": {
      "text/plain": [
       "'South Africa'"
      ]
     },
     "execution_count": 10,
     "metadata": {},
     "output_type": "execute_result"
    }
   ],
   "source": [
    "#Displaying Country from which Maximum tourists came\n",
    "df['Visitor_country'].max()"
   ]
  },
  {
   "cell_type": "code",
   "execution_count": 11,
   "metadata": {},
   "outputs": [
    {
     "data": {
      "text/plain": [
       "2019"
      ]
     },
     "execution_count": 11,
     "metadata": {},
     "output_type": "execute_result"
    }
   ],
   "source": [
    "#Diplaying year in which most number of visitors came \n",
    "df['Year of Visit'].max()"
   ]
  },
  {
   "cell_type": "code",
   "execution_count": 12,
   "metadata": {},
   "outputs": [
    {
     "data": {
      "text/plain": [
       "'Resorts'"
      ]
     },
     "execution_count": 12,
     "metadata": {},
     "output_type": "execute_result"
    }
   ],
   "source": [
    "#Displaying maximum preferred hotel\n",
    "df['Hotels'].max()"
   ]
  },
  {
   "cell_type": "code",
   "execution_count": 13,
   "metadata": {},
   "outputs": [
    {
     "data": {
      "text/plain": [
       "34.48275862068966"
      ]
     },
     "execution_count": 13,
     "metadata": {},
     "output_type": "execute_result"
    }
   ],
   "source": [
    "#Displaying average number of tourists wrt cities\n",
    "g1['Number of people'].mean()"
   ]
  },
  {
   "cell_type": "code",
   "execution_count": 14,
   "metadata": {},
   "outputs": [
    {
     "data": {
      "text/plain": [
       "159          Alfy\n",
       "188       Garrard\n",
       "261         Margi\n",
       "345     Guglielmo\n",
       "419      Laurence\n",
       "436      Vincenty\n",
       "458       Lyndell\n",
       "484       Hilario\n",
       "542     Elbertina\n",
       "562          Vere\n",
       "579       Daphene\n",
       "604       Robinia\n",
       "651      Taddeusz\n",
       "738    Anna-diane\n",
       "841         Colas\n",
       "919          Elsi\n",
       "942        Dreddy\n",
       "956         Irvin\n",
       "Name: Name_of_visitor, dtype: object"
      ]
     },
     "execution_count": 14,
     "metadata": {},
     "output_type": "execute_result"
    }
   ],
   "source": [
    "#Diplaying list of Visitors from South Africa\n",
    "df.loc[df[\"Visitor_country\"] == \"South Africa\", \"Name_of_visitor\"]"
   ]
  },
  {
   "cell_type": "code",
   "execution_count": null,
   "metadata": {},
   "outputs": [],
   "source": []
  },
  {
   "cell_type": "code",
   "execution_count": null,
   "metadata": {},
   "outputs": [],
   "source": []
  }
 ],
 "metadata": {
  "kernelspec": {
   "display_name": "Python 3",
   "language": "python",
   "name": "python3"
  },
  "language_info": {
   "codemirror_mode": {
    "name": "ipython",
    "version": 3
   },
   "file_extension": ".py",
   "mimetype": "text/x-python",
   "name": "python",
   "nbconvert_exporter": "python",
   "pygments_lexer": "ipython3",
   "version": "3.7.6"
  }
 },
 "nbformat": 4,
 "nbformat_minor": 4
}
